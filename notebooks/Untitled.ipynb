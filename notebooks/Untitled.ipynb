{
 "cells": [
  {
   "cell_type": "code",
   "execution_count": 15,
   "id": "c3c51e4a-e4b5-4b5c-9543-97114007c44c",
   "metadata": {},
   "outputs": [
    {
     "name": "stdout",
     "output_type": "stream",
     "text": [
      "['price' 'stock_available' 'store_id_str_02' 'store_id_str_03'\n",
      " 'product_id_pdt_002' 'product_id_pdt_003' 'product_id_pdt_004'\n",
      " 'product_id_pdt_005' 'product_category_Dairy' 'product_category_Frozen'\n",
      " 'product_category_Household' 'product_category_Snack'\n",
      " 'store_location_Los_Angeles' 'store_location_New_York' 'weekday_Monday'\n",
      " 'weekday_Saturday' 'weekday_Thursday' 'weekday_Tuesday'\n",
      " 'weekday_Wednesday' 'revenue' 'day' 'month' 'year']\n"
     ]
    }
   ],
   "source": [
    "import pickle\n",
    "\n",
    "# Load the object from a file\n",
    "with open('../models/model_best.pkl', 'rb') as file:  # 'rb' means read in binary mode\n",
    "    loaded_data = pickle.load(file)\n",
    "\n",
    "print(loaded_data)\n"
   ]
  },
  {
   "cell_type": "code",
   "execution_count": 16,
   "id": "b198b185-cf76-40cd-9a10-57d8d519e208",
   "metadata": {},
   "outputs": [
    {
     "name": "stdout",
     "output_type": "stream",
     "text": [
      "False\n"
     ]
    }
   ],
   "source": [
    "print(hasattr(loaded_data, \"n_features_\"))  # True if fitted\n"
   ]
  },
  {
   "cell_type": "code",
   "execution_count": null,
   "id": "9e278d66-7f2f-4d99-9d47-b6cf072b1e77",
   "metadata": {},
   "outputs": [],
   "source": []
  }
 ],
 "metadata": {
  "kernelspec": {
   "display_name": "Python (base)",
   "language": "python",
   "name": "base"
  },
  "language_info": {
   "codemirror_mode": {
    "name": "ipython",
    "version": 3
   },
   "file_extension": ".py",
   "mimetype": "text/x-python",
   "name": "python",
   "nbconvert_exporter": "python",
   "pygments_lexer": "ipython3",
   "version": "3.12.7"
  }
 },
 "nbformat": 4,
 "nbformat_minor": 5
}
