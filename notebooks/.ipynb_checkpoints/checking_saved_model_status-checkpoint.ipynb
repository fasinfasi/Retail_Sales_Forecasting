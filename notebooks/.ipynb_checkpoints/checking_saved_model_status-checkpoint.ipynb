{
 "cells": [
  {
   "cell_type": "code",
   "execution_count": 41,
   "id": "c3c51e4a-e4b5-4b5c-9543-97114007c44c",
   "metadata": {},
   "outputs": [
    {
     "name": "stdout",
     "output_type": "stream",
     "text": [
      "RandomForestRegressor()\n"
     ]
    }
   ],
   "source": [
    "import pickle\n",
    "\n",
    "# Load the object from a file\n",
    "with open('../models/model_best.pkl', 'rb') as file:  # 'rb' means read in binary mode\n",
    "    loaded_data = pickle.load(file)\n",
    "\n",
    "print(loaded_data)\n"
   ]
  },
  {
   "cell_type": "code",
   "execution_count": 42,
   "id": "b198b185-cf76-40cd-9a10-57d8d519e208",
   "metadata": {},
   "outputs": [
    {
     "name": "stdout",
     "output_type": "stream",
     "text": [
      "False\n"
     ]
    }
   ],
   "source": [
    "print(hasattr(loaded_data, \"n_features_\"))  # True if fitted\n"
   ]
  },
  {
   "cell_type": "markdown",
   "id": "257dcda0-52fd-405f-94e4-6187cd876823",
   "metadata": {},
   "source": [
    "#### Confirming model is trained and type of model"
   ]
  },
  {
   "cell_type": "code",
   "execution_count": 43,
   "id": "9e278d66-7f2f-4d99-9d47-b6cf072b1e77",
   "metadata": {},
   "outputs": [
    {
     "name": "stdout",
     "output_type": "stream",
     "text": [
      "Loaded model type: <class 'sklearn.ensemble._forest.RandomForestRegressor'>\n"
     ]
    }
   ],
   "source": [
    "print(\"Loaded model type:\", type(loaded_data))"
   ]
  },
  {
   "cell_type": "code",
   "execution_count": 44,
   "id": "4d495cdf-5e99-4ff9-901e-ff19377d48b2",
   "metadata": {},
   "outputs": [
    {
     "name": "stdout",
     "output_type": "stream",
     "text": [
      "Model type: <class 'sklearn.ensemble._forest.RandomForestRegressor'>\n"
     ]
    }
   ],
   "source": [
    "print(\"Model type:\", type(loaded_data))\n"
   ]
  },
  {
   "cell_type": "code",
   "execution_count": 45,
   "id": "1d52fb3d-a06f-47a2-8864-102c92695bf6",
   "metadata": {},
   "outputs": [
    {
     "name": "stdout",
     "output_type": "stream",
     "text": [
      "True\n"
     ]
    }
   ],
   "source": [
    "print(hasattr(loaded_data, \"n_features_in_\"))  # should return True\n"
   ]
  },
  {
   "cell_type": "code",
   "execution_count": 46,
   "id": "4ec0429a-c82e-4f45-9183-b7f7dcacb85d",
   "metadata": {},
   "outputs": [
    {
     "name": "stdout",
     "output_type": "stream",
     "text": [
      "n_features_in_: 23\n"
     ]
    }
   ],
   "source": [
    "print(\"n_features_in_:\", loaded_data.n_features_in_)\n"
   ]
  },
  {
   "cell_type": "markdown",
   "id": "8310ea07-aafc-4e88-b594-00065baca2f1",
   "metadata": {},
   "source": [
    "Model has 23 features"
   ]
  },
  {
   "cell_type": "code",
   "execution_count": null,
   "id": "f657f3ec-a90e-410e-b4db-4ca1c832bf92",
   "metadata": {},
   "outputs": [],
   "source": []
  }
 ],
 "metadata": {
  "kernelspec": {
   "display_name": "Python (base)",
   "language": "python",
   "name": "base"
  },
  "language_info": {
   "codemirror_mode": {
    "name": "ipython",
    "version": 3
   },
   "file_extension": ".py",
   "mimetype": "text/x-python",
   "name": "python",
   "nbconvert_exporter": "python",
   "pygments_lexer": "ipython3",
   "version": "3.12.7"
  }
 },
 "nbformat": 4,
 "nbformat_minor": 5
}
